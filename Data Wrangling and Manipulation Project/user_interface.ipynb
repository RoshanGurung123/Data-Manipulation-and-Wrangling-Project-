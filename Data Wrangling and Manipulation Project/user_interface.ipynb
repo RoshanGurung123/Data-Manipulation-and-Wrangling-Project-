{
 "cells": [
  {
   "cell_type": "code",
   "execution_count": null,
   "id": "002c631a",
   "metadata": {},
   "outputs": [],
   "source": [
    "#Creating list of menu for the user to choose\n",
    "\n",
    "def user_selection():\n",
    "    \"\"\"\n",
    "        Function to show userinterface at the begining\n",
    "    \"\"\"\n",
    "    print(f\"\"\"\\nPlease select one of the follwing feature you want to use:\n",
    "            {\"[A]\":<5} A - Host details\n",
    "            {\"[B]\":<5} B - Advance features\n",
    "            {\"[C]\":<5} C - Visualise \n",
    "            \"\"\")\n",
    "    \n",
    "def menu():\n",
    "    \"\"\"\n",
    "        Function to show user interface when user choose get host_details\n",
    "    \"\"\"\n",
    "    print(f\"\"\"Please select one of the following options of your choice:\n",
    "              {\"[A]\":<5} A - get host info using host id\n",
    "              {\"[B]\":<5} B - get host details for a specified location\n",
    "              {\"[C]\":<5} C - get detials for a specified property type\n",
    "              {\"[D]\":<5} D - get details of your choice\n",
    "              \"\"\")\n",
    "\n",
    "def advance_menu():\n",
    "    \"\"\"\n",
    "        Function to show user interface when user choose advance feature option\n",
    "    \"\"\"\n",
    "    print(f\"\"\"Please select one of the following advance menu of your choice:\n",
    "    {\"[A]\":<5} A - get top ten most popular amenities\n",
    "    {\"[B]\":<5} B - get the average price of each stay in each location\n",
    "    {\"[c]\":<5} c - get the average review scores rating for each location\n",
    "    \"\"\")\n",
    "          \n",
    "def visualise():\n",
    "    \"\"\"\n",
    "        Function to show user interface when user choose visualise option\n",
    "    \"\"\"\n",
    "          print(f\"\"\"Visualise data\n",
    "          please select one of the following options:\n",
    "          {\"[A]\":<5} A - Visualise the proportion of number of bedrooms using piechart\n",
    "          {\"[B]\":<5} B - Visualise the number of listing for each room using bar chart\n",
    "          {\"[C]\":<5} C - Visualise the relationship between accomodates and price using scatter plot\n",
    "          {\"[D]\":<5} D - Visualise the Airbnb prices from 2019-2022 using subplots\n",
    "          {\"[E]\":<5} E - visualise the realtion between rating and review score\n",
    "          \"\"\")\n",
    "          \n",
    "def try_again():\n",
    "          \"\"\"\n",
    "              Function to let user user choose either to try more option from the selected\n",
    "              feature or change the feature\n",
    "          \"\"\"\n",
    "          print(f\"\"\"\\nDo you want to use other options or change the feature?\n",
    "            {\"[A]\":<5} A - Try more option\n",
    "            {\"[B]\":<5} B - Change feature\n",
    "            \"\"\")"
   ]
  }
 ],
 "metadata": {
  "kernelspec": {
   "display_name": "Python 3 (ipykernel)",
   "language": "python",
   "name": "python3"
  },
  "language_info": {
   "codemirror_mode": {
    "name": "ipython",
    "version": 3
   },
   "file_extension": ".py",
   "mimetype": "text/x-python",
   "name": "python",
   "nbconvert_exporter": "python",
   "pygments_lexer": "ipython3",
   "version": "3.9.13"
  }
 },
 "nbformat": 4,
 "nbformat_minor": 5
}
